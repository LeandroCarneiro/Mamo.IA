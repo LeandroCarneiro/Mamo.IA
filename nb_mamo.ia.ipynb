{
 "cells": [
  {
   "cell_type": "code",
   "execution_count": 3,
   "id": "bc025491",
   "metadata": {},
   "outputs": [
    {
     "name": "stdout",
     "output_type": "stream",
     "text": [
      "importing done\n"
     ]
    }
   ],
   "source": [
    "import os\n",
    "import numpy as np\n",
    "import pandas as pd\n",
    "from sklearn.datasets import load_iris\n",
    "import xgboost as xgb\n",
    "from sklearn.model_selection import cross_val_score, train_test_split\n",
    "from sklearn.metrics import accuracy_score, f1_score, roc_auc_score\n",
    "from tqdm import tqdm\n",
    "from sklearn.preprocessing import LabelEncoder\n",
    "from sklearn.datasets import fetch_openml\n",
    "\n",
    "import matplotlib.pyplot as plt\n",
    "\n",
    "from helpers.datasetHelper import get_samples, split_healthy_data\n",
    "from MyPSO import MyPSO\n",
    "\n",
    "print(\"importing done\")\n",
    "\n"
   ]
  },
  {
   "cell_type": "code",
   "execution_count": 8,
   "id": "7c2e98cc",
   "metadata": {},
   "outputs": [],
   "source": [
    "def load_methylation_data(file_path):\n",
    "    \"\"\"Load DNA methylation data from a file\"\"\"\n",
    "    # Read the CSV file\n",
    "    data = pd.read_csv(file_path)\n",
    "    \n",
    "    # Extract feature names, exclude first column (sample names) and last column (target)\n",
    "    feature_names = np.array(data.columns[1:-1])\n",
    "    \n",
    "    # Extract data: X contains all columns except the first (sample names) and last (target)\n",
    "    X = data.iloc[:, 1:-1].values\n",
    "    \n",
    "    # Extract target: last column\n",
    "    y = data.iloc[:, -1].values\n",
    "    \n",
    "    return X, y, feature_names\n",
    "\n"
   ]
  },
  {
   "cell_type": "code",
   "execution_count": 13,
   "id": "7df63edf",
   "metadata": {},
   "outputs": [
    {
     "name": "stdout",
     "output_type": "stream",
     "text": [
      "Loading DNA methylation data...\n"
     ]
    },
    {
     "name": "stderr",
     "output_type": "stream",
     "text": [
      "c:\\Leandro\\Master\\Repository\\Mamo.IA\\helpers\\datasetHelper.py:6: DtypeWarning: Columns (1,2,3,4,5,6,7,8,9,10,11,12,13,14,15,16,17,18,19,20,21,22,23,24,25,26,27,28,29,30,31,32,33,34,35,36,37,38,39,40,41,42,43,44,45,46,47,48,49,50,51,52,53,54,55,56,57,58,59,60,61,62,63,64,65,66,67,68,69,70,71,72,73,74,75,76,77,78,79,80,81,82,83,84,85,86,87,88,89,90,91,92,93,94,95,96,97,98,99,100,101,102,103,104,105,106,107,108,109,110,111,112,113,114,115,116,117,118,119,120,121,122,123,124,125,126,127,128,129,130,131,132,133,134,135,136,137,138,139,140,141,142,143,144,145,146,147,148,149,150,151,152,153,154,155,156,157,158,159,160,161,162,163,164,165,166,167,168,169,170,171,172,173,174,175,176,177,178,179,180,181,182,183,184,185,186,187,188,189,190,191,192,193,194,195,196,197,198,199,200,201,202,203,204,205,206,207,208,209,210,211,212,213,214,215,216,217,218,219,220,221,222,223,224,225,226,227,228,229,230,231,232,233,234,235,236,237,238,239,240,241,242,243,244,245,246,247,248,249,250,251,252,253,254,255,256,257,258,259,260,261,262,263,264,265,266,267,268,269,270,271,272,273,274,275,276,277,278,279,280,281,282,283,284,285,286,287,288,289,290,291,292,293,294,295,296,297,298,299,300,301,302,303,304,305,306,307,308,309,310,311,312,313,314,315,316,317,318,319,320,321,322,323,324,325,326,327,328,329,330,331,332,333,334,335,336,337,338,339,340,341,342,343,344,345,346,347,348,349,350,351,352,353,354,355,356,357,358,359,360,361,362,363,364,365,366,367,368,369,370,371,372,373,374,375,376,377,378,379,380,381,382,383,384,385,386,387,388,389,390,391,392,393,394,395,396,397,398,399,400,401,402,403,404,405,406,407,408,409,410,411,412,413,414,415,416,417,418,419,420,421,422,423,424,425,426,427,428,429,430,431,432,433,434,435,436,437,438,439,440,441,442,443,444,445,446,447,448,449,450,451,452,453,454,455,456,457,458,459,460,461,462,463,464,465,466,467,468,469,470,471,472,473,474,475,476,477,478,479,480,481,482,483,484,485,486,487,488,489,490,491,492,493,494,495,496,497,498,499,500,501,502,503,504,505,506,507,508,509,510,511,512,513,514,515,516,517,518,519,520,521,522,523,524,525,526,527,528,529,530,531,532,533,534,535,536,537,538,539,540,541,542,543,544,545,546,547,548,549,550,551,552,553,554,555,556,557,558,559,560,561,562,563,564,565,566,567,568,569,570,571,572,573,574,575,576,577,578,579,580,581,582,583,584,585,586,587,588,589,590,591,592,593,594,595,596,597,598,599,600,601,602,603,604,605,606,607,608,609,610,611,612,613,614,615,616,617,618,619,620,621,622,623,624,625,626,627,628,629,630,631,632,633,634,635,636,637,638,639,640,641,642,643,644,645,646,647,648,649,650,651,652,653,654,655,656,657,658,659,660,661,662,663,664,665,666,667,668,669,670,671,672,673,674,675,676,677,678,679,680,681,682,683,684,685,686,687,688,689,690,691,692,693,694,695,696,697,698,699,700,701,702,703,704,705,706,707,708,709,710,711,712,713,714,715,716,717,718,719,720,721,722,723,724,725,726,727,728,729,730,731,732,733,734,735,736,737,738,739,740,741,742,743,744,745,746,747,748,749,750,751,752,753,754,755,756,757,758,759,760,761,762,763,764,765,766,767,768,769,770,771,772,773,774,775,776,777,778,779,780,781,782,783,784,785,786,787,788,789,790) have mixed types. Specify dtype option on import or set low_memory=False.\n",
      "  df = pd.read_csv(file_path)\n"
     ]
    }
   ],
   "source": [
    "directory_path = './datasets'\n",
    "data_path = os.path.join(directory_path, 'DT.Healthy.csv')\n",
    "\n",
    "\"\"\"Main function to run the PSO feature selection with XGBoost\"\"\"\n",
    "# Load methylation data\n",
    "print(\"Loading DNA methylation data...\")\n",
    "\n",
    "data_health = get_samples(data_path)\n",
    "\n",
    "# Load the PAN-CANCER-TRANSPOSED.csv data\n",
    "healthy_cases, prebrca_cases, cancer_cases = split_healthy_data(data_health)\n",
    "\n",
    "# Combine the data into a single dataframe\n",
    "# Tag each list of cases\n",
    "healthy_cases = pd.DataFrame(healthy_cases)\n",
    "healthy_cases['Tag'] = 'HEALTHY'\n",
    "prebrca_cases = pd.DataFrame(prebrca_cases)\n",
    "prebrca_cases['Tag'] = 'PRE-BRCA'\n",
    "cancer_cases = pd.DataFrame(cancer_cases)\n",
    "cancer_cases['Tag'] = 'BRCA'\n",
    "\n",
    "df_cancer = pd.concat([healthy_cases, prebrca_cases, cancer_cases], ignore_index=True) #blood samples\n",
    "# The last column is the target classes\n",
    "# Ensure all data is numeric\n",
    "X = df_cancer.iloc[:, :-1].apply(pd.to_numeric, errors='coerce')\n",
    "Y = df_cancer.iloc[:, -1]\n",
    "# Label encode the target variable\n",
    "label_encoder = LabelEncoder()\n",
    "Y = label_encoder.fit_transform(Y)\n"
   ]
  },
  {
   "cell_type": "code",
   "execution_count": 14,
   "id": "4d5fb331",
   "metadata": {},
   "outputs": [],
   "source": [
    "# Fill missing values with the lowest value of its cpg site\n",
    "X = X.apply(lambda col: col.fillna(col.min()), axis=0)\n",
    "\n"
   ]
  },
  {
   "cell_type": "code",
   "execution_count": null,
   "id": "50419258",
   "metadata": {},
   "outputs": [
    {
     "name": "stdout",
     "output_type": "stream",
     "text": [
      "Label encoding mapping: {'BRCA': np.int64(0), 'HEALTHY': np.int64(1), 'PRE-BRCA': np.int64(2)}\n",
      "Loaded dataset with 27578 features and 790 samples\n"
     ]
    }
   ],
   "source": [
    "print(f\"Label encoding mapping: {dict(zip(label_encoder.classes_, label_encoder.transform(label_encoder.classes_)))}\")\n",
    "feature_names = {index: value for index, value in enumerate(data_health)}\n",
    "\n",
    "n_features = X.shape[1]\n",
    "print(f\"Loaded dataset with {n_features} features and {len(Y)} samples\")\n",
    "\n",
    "# Initialize PSO\n",
    "pso = MyPSO(n_particles=30, \n",
    "            n_features=n_features, \n",
    "            max_iter=100, \n",
    "            init_prob=0.3,\n",
    "            min_features=3)\n"
   ]
  },
  {
   "cell_type": "code",
   "execution_count": null,
   "id": "11b499bd",
   "metadata": {},
   "outputs": [
    {
     "name": "stderr",
     "output_type": "stream",
     "text": [
      "  0%|          | 0/100 [00:00<?, ?it/s]\n"
     ]
    },
    {
     "ename": "IndexError",
     "evalue": "Boolean index has wrong length: 100 instead of 27578",
     "output_type": "error",
     "traceback": [
      "\u001b[31m---------------------------------------------------------------------------\u001b[39m",
      "\u001b[31mIndexError\u001b[39m                                Traceback (most recent call last)",
      "\u001b[36mCell\u001b[39m\u001b[36m \u001b[39m\u001b[32mIn[17]\u001b[39m\u001b[32m, line 3\u001b[39m\n\u001b[32m      1\u001b[39m \u001b[38;5;66;03m# Run optimization\u001b[39;00m\n\u001b[32m      2\u001b[39m \u001b[38;5;66;03m# Run optimization\u001b[39;00m\n\u001b[32m----> \u001b[39m\u001b[32m3\u001b[39m best_position, best_fitness = \u001b[43mpso\u001b[49m\u001b[43m.\u001b[49m\u001b[43moptimize\u001b[49m\u001b[43m(\u001b[49m\u001b[43mX\u001b[49m\u001b[43m,\u001b[49m\u001b[43m \u001b[49m\u001b[43mY\u001b[49m\u001b[43m)\u001b[49m\n",
      "\u001b[36mFile \u001b[39m\u001b[32mc:\\Leandro\\Master\\Repository\\Mamo.IA\\MyPSO.py:100\u001b[39m, in \u001b[36mMyPSO.optimize\u001b[39m\u001b[34m(self, X, y)\u001b[39m\n\u001b[32m     97\u001b[39m \u001b[38;5;28;01mfor\u001b[39;00m iteration \u001b[38;5;129;01min\u001b[39;00m tqdm(\u001b[38;5;28mrange\u001b[39m(\u001b[38;5;28mself\u001b[39m.max_iter)):\n\u001b[32m     98\u001b[39m     \u001b[38;5;66;03m# Evaluate fitness for each particle\u001b[39;00m\n\u001b[32m     99\u001b[39m     \u001b[38;5;28;01mfor\u001b[39;00m particle \u001b[38;5;129;01min\u001b[39;00m \u001b[38;5;28mself\u001b[39m.particles:\n\u001b[32m--> \u001b[39m\u001b[32m100\u001b[39m         fitness = \u001b[43mparticle\u001b[49m\u001b[43m.\u001b[49m\u001b[43mevaluate_fitness\u001b[49m\u001b[43m(\u001b[49m\u001b[43mX\u001b[49m\u001b[43m,\u001b[49m\u001b[43m \u001b[49m\u001b[43my\u001b[49m\u001b[43m,\u001b[49m\u001b[43m \u001b[49m\u001b[38;5;28;43mself\u001b[39;49m\u001b[43m.\u001b[49m\u001b[43mmin_features\u001b[49m\u001b[43m)\u001b[49m\n\u001b[32m    102\u001b[39m         \u001b[38;5;66;03m# Update global best if current fitness is better\u001b[39;00m\n\u001b[32m    103\u001b[39m         \u001b[38;5;28;01mif\u001b[39;00m fitness > \u001b[38;5;28mself\u001b[39m.gbest_fitness:\n",
      "\u001b[36mFile \u001b[39m\u001b[32mc:\\Leandro\\Master\\Repository\\Mamo.IA\\MyPSO.py:51\u001b[39m, in \u001b[36mParticle.evaluate_fitness\u001b[39m\u001b[34m(self, X, y, min_features)\u001b[39m\n\u001b[32m     48\u001b[39m     \u001b[38;5;28;01mreturn\u001b[39;00m \u001b[38;5;28mfloat\u001b[39m(\u001b[33m'\u001b[39m\u001b[33m-inf\u001b[39m\u001b[33m'\u001b[39m)\n\u001b[32m     50\u001b[39m \u001b[38;5;66;03m# Select features based on position\u001b[39;00m\n\u001b[32m---> \u001b[39m\u001b[32m51\u001b[39m X_selected = \u001b[43mX\u001b[49m\u001b[43m.\u001b[49m\u001b[43miloc\u001b[49m\u001b[43m[\u001b[49m\u001b[43m:\u001b[49m\u001b[43m,\u001b[49m\u001b[43m \u001b[49m\u001b[43mselected_features\u001b[49m\u001b[43m]\u001b[49m\n\u001b[32m     52\u001b[39m values_selected = X_selected.values\n\u001b[32m     54\u001b[39m \u001b[38;5;66;03m# Use XGBoost classifier with cross-validation\u001b[39;00m\n",
      "\u001b[36mFile \u001b[39m\u001b[32mc:\\Leandro\\Master\\Repository\\Mamo.IA\\pylocal\\Lib\\site-packages\\pandas\\core\\indexing.py:1184\u001b[39m, in \u001b[36m_LocationIndexer.__getitem__\u001b[39m\u001b[34m(self, key)\u001b[39m\n\u001b[32m   1182\u001b[39m     \u001b[38;5;28;01mif\u001b[39;00m \u001b[38;5;28mself\u001b[39m._is_scalar_access(key):\n\u001b[32m   1183\u001b[39m         \u001b[38;5;28;01mreturn\u001b[39;00m \u001b[38;5;28mself\u001b[39m.obj._get_value(*key, takeable=\u001b[38;5;28mself\u001b[39m._takeable)\n\u001b[32m-> \u001b[39m\u001b[32m1184\u001b[39m     \u001b[38;5;28;01mreturn\u001b[39;00m \u001b[38;5;28;43mself\u001b[39;49m\u001b[43m.\u001b[49m\u001b[43m_getitem_tuple\u001b[49m\u001b[43m(\u001b[49m\u001b[43mkey\u001b[49m\u001b[43m)\u001b[49m\n\u001b[32m   1185\u001b[39m \u001b[38;5;28;01melse\u001b[39;00m:\n\u001b[32m   1186\u001b[39m     \u001b[38;5;66;03m# we by definition only have the 0th axis\u001b[39;00m\n\u001b[32m   1187\u001b[39m     axis = \u001b[38;5;28mself\u001b[39m.axis \u001b[38;5;129;01mor\u001b[39;00m \u001b[32m0\u001b[39m\n",
      "\u001b[36mFile \u001b[39m\u001b[32mc:\\Leandro\\Master\\Repository\\Mamo.IA\\pylocal\\Lib\\site-packages\\pandas\\core\\indexing.py:1694\u001b[39m, in \u001b[36m_iLocIndexer._getitem_tuple\u001b[39m\u001b[34m(self, tup)\u001b[39m\n\u001b[32m   1691\u001b[39m \u001b[38;5;28;01mwith\u001b[39;00m suppress(IndexingError):\n\u001b[32m   1692\u001b[39m     \u001b[38;5;28;01mreturn\u001b[39;00m \u001b[38;5;28mself\u001b[39m._getitem_lowerdim(tup)\n\u001b[32m-> \u001b[39m\u001b[32m1694\u001b[39m \u001b[38;5;28;01mreturn\u001b[39;00m \u001b[38;5;28;43mself\u001b[39;49m\u001b[43m.\u001b[49m\u001b[43m_getitem_tuple_same_dim\u001b[49m\u001b[43m(\u001b[49m\u001b[43mtup\u001b[49m\u001b[43m)\u001b[49m\n",
      "\u001b[36mFile \u001b[39m\u001b[32mc:\\Leandro\\Master\\Repository\\Mamo.IA\\pylocal\\Lib\\site-packages\\pandas\\core\\indexing.py:1020\u001b[39m, in \u001b[36m_LocationIndexer._getitem_tuple_same_dim\u001b[39m\u001b[34m(self, tup)\u001b[39m\n\u001b[32m   1017\u001b[39m \u001b[38;5;28;01mif\u001b[39;00m com.is_null_slice(key):\n\u001b[32m   1018\u001b[39m     \u001b[38;5;28;01mcontinue\u001b[39;00m\n\u001b[32m-> \u001b[39m\u001b[32m1020\u001b[39m retval = \u001b[38;5;28;43mgetattr\u001b[39;49m\u001b[43m(\u001b[49m\u001b[43mretval\u001b[49m\u001b[43m,\u001b[49m\u001b[43m \u001b[49m\u001b[38;5;28;43mself\u001b[39;49m\u001b[43m.\u001b[49m\u001b[43mname\u001b[49m\u001b[43m)\u001b[49m\u001b[43m.\u001b[49m\u001b[43m_getitem_axis\u001b[49m\u001b[43m(\u001b[49m\u001b[43mkey\u001b[49m\u001b[43m,\u001b[49m\u001b[43m \u001b[49m\u001b[43maxis\u001b[49m\u001b[43m=\u001b[49m\u001b[43mi\u001b[49m\u001b[43m)\u001b[49m\n\u001b[32m   1021\u001b[39m \u001b[38;5;66;03m# We should never have retval.ndim < self.ndim, as that should\u001b[39;00m\n\u001b[32m   1022\u001b[39m \u001b[38;5;66;03m#  be handled by the _getitem_lowerdim call above.\u001b[39;00m\n\u001b[32m   1023\u001b[39m \u001b[38;5;28;01massert\u001b[39;00m retval.ndim == \u001b[38;5;28mself\u001b[39m.ndim\n",
      "\u001b[36mFile \u001b[39m\u001b[32mc:\\Leandro\\Master\\Repository\\Mamo.IA\\pylocal\\Lib\\site-packages\\pandas\\core\\indexing.py:1739\u001b[39m, in \u001b[36m_iLocIndexer._getitem_axis\u001b[39m\u001b[34m(self, key, axis)\u001b[39m\n\u001b[32m   1737\u001b[39m \u001b[38;5;28;01mif\u001b[39;00m com.is_bool_indexer(key):\n\u001b[32m   1738\u001b[39m     \u001b[38;5;28mself\u001b[39m._validate_key(key, axis)\n\u001b[32m-> \u001b[39m\u001b[32m1739\u001b[39m     \u001b[38;5;28;01mreturn\u001b[39;00m \u001b[38;5;28;43mself\u001b[39;49m\u001b[43m.\u001b[49m\u001b[43m_getbool_axis\u001b[49m\u001b[43m(\u001b[49m\u001b[43mkey\u001b[49m\u001b[43m,\u001b[49m\u001b[43m \u001b[49m\u001b[43maxis\u001b[49m\u001b[43m=\u001b[49m\u001b[43maxis\u001b[49m\u001b[43m)\u001b[49m\n\u001b[32m   1741\u001b[39m \u001b[38;5;66;03m# a list of integers\u001b[39;00m\n\u001b[32m   1742\u001b[39m \u001b[38;5;28;01melif\u001b[39;00m is_list_like_indexer(key):\n",
      "\u001b[36mFile \u001b[39m\u001b[32mc:\\Leandro\\Master\\Repository\\Mamo.IA\\pylocal\\Lib\\site-packages\\pandas\\core\\indexing.py:1209\u001b[39m, in \u001b[36m_LocationIndexer._getbool_axis\u001b[39m\u001b[34m(self, key, axis)\u001b[39m\n\u001b[32m   1205\u001b[39m \u001b[38;5;129m@final\u001b[39m\n\u001b[32m   1206\u001b[39m \u001b[38;5;28;01mdef\u001b[39;00m\u001b[38;5;250m \u001b[39m\u001b[34m_getbool_axis\u001b[39m(\u001b[38;5;28mself\u001b[39m, key, axis: AxisInt):\n\u001b[32m   1207\u001b[39m     \u001b[38;5;66;03m# caller is responsible for ensuring non-None axis\u001b[39;00m\n\u001b[32m   1208\u001b[39m     labels = \u001b[38;5;28mself\u001b[39m.obj._get_axis(axis)\n\u001b[32m-> \u001b[39m\u001b[32m1209\u001b[39m     key = \u001b[43mcheck_bool_indexer\u001b[49m\u001b[43m(\u001b[49m\u001b[43mlabels\u001b[49m\u001b[43m,\u001b[49m\u001b[43m \u001b[49m\u001b[43mkey\u001b[49m\u001b[43m)\u001b[49m\n\u001b[32m   1210\u001b[39m     inds = key.nonzero()[\u001b[32m0\u001b[39m]\n\u001b[32m   1211\u001b[39m     \u001b[38;5;28;01mreturn\u001b[39;00m \u001b[38;5;28mself\u001b[39m.obj._take_with_is_copy(inds, axis=axis)\n",
      "\u001b[36mFile \u001b[39m\u001b[32mc:\\Leandro\\Master\\Repository\\Mamo.IA\\pylocal\\Lib\\site-packages\\pandas\\core\\indexing.py:2681\u001b[39m, in \u001b[36mcheck_bool_indexer\u001b[39m\u001b[34m(index, key)\u001b[39m\n\u001b[32m   2677\u001b[39m \u001b[38;5;28;01melif\u001b[39;00m \u001b[38;5;129;01mnot\u001b[39;00m is_array_like(result):\n\u001b[32m   2678\u001b[39m     \u001b[38;5;66;03m# GH 33924\u001b[39;00m\n\u001b[32m   2679\u001b[39m     \u001b[38;5;66;03m# key may contain nan elements, check_array_indexer needs bool array\u001b[39;00m\n\u001b[32m   2680\u001b[39m     result = pd_array(result, dtype=\u001b[38;5;28mbool\u001b[39m)\n\u001b[32m-> \u001b[39m\u001b[32m2681\u001b[39m \u001b[38;5;28;01mreturn\u001b[39;00m \u001b[43mcheck_array_indexer\u001b[49m\u001b[43m(\u001b[49m\u001b[43mindex\u001b[49m\u001b[43m,\u001b[49m\u001b[43m \u001b[49m\u001b[43mresult\u001b[49m\u001b[43m)\u001b[49m\n",
      "\u001b[36mFile \u001b[39m\u001b[32mc:\\Leandro\\Master\\Repository\\Mamo.IA\\pylocal\\Lib\\site-packages\\pandas\\core\\indexers\\utils.py:539\u001b[39m, in \u001b[36mcheck_array_indexer\u001b[39m\u001b[34m(array, indexer)\u001b[39m\n\u001b[32m    537\u001b[39m     \u001b[38;5;66;03m# GH26658\u001b[39;00m\n\u001b[32m    538\u001b[39m     \u001b[38;5;28;01mif\u001b[39;00m \u001b[38;5;28mlen\u001b[39m(indexer) != \u001b[38;5;28mlen\u001b[39m(array):\n\u001b[32m--> \u001b[39m\u001b[32m539\u001b[39m         \u001b[38;5;28;01mraise\u001b[39;00m \u001b[38;5;167;01mIndexError\u001b[39;00m(\n\u001b[32m    540\u001b[39m             \u001b[33mf\u001b[39m\u001b[33m\"\u001b[39m\u001b[33mBoolean index has wrong length: \u001b[39m\u001b[33m\"\u001b[39m\n\u001b[32m    541\u001b[39m             \u001b[33mf\u001b[39m\u001b[33m\"\u001b[39m\u001b[38;5;132;01m{\u001b[39;00m\u001b[38;5;28mlen\u001b[39m(indexer)\u001b[38;5;132;01m}\u001b[39;00m\u001b[33m instead of \u001b[39m\u001b[38;5;132;01m{\u001b[39;00m\u001b[38;5;28mlen\u001b[39m(array)\u001b[38;5;132;01m}\u001b[39;00m\u001b[33m\"\u001b[39m\n\u001b[32m    542\u001b[39m         )\n\u001b[32m    543\u001b[39m \u001b[38;5;28;01melif\u001b[39;00m is_integer_dtype(dtype):\n\u001b[32m    544\u001b[39m     \u001b[38;5;28;01mtry\u001b[39;00m:\n",
      "\u001b[31mIndexError\u001b[39m: Boolean index has wrong length: 100 instead of 27578"
     ]
    }
   ],
   "source": [
    "# Run optimization\n",
    "# Run optimization\n",
    "best_position, best_fitness = pso.optimize(X, Y)\n",
    "\n",
    "# Ensure the length of best_position matches the number of features\n",
    "if len(best_position) != n_features:\n",
    "\traise ValueError(f\"Length of best_position ({len(best_position)}) does not match the number of features ({n_features}).\")\n"
   ]
  },
  {
   "cell_type": "code",
   "execution_count": null,
   "id": "998c2244",
   "metadata": {},
   "outputs": [],
   "source": []
  }
 ],
 "metadata": {
  "kernelspec": {
   "display_name": "pylocal",
   "language": "python",
   "name": "python3"
  },
  "language_info": {
   "codemirror_mode": {
    "name": "ipython",
    "version": 3
   },
   "file_extension": ".py",
   "mimetype": "text/x-python",
   "name": "python",
   "nbconvert_exporter": "python",
   "pygments_lexer": "ipython3",
   "version": "3.11.9"
  }
 },
 "nbformat": 4,
 "nbformat_minor": 5
}
